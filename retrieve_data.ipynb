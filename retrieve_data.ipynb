{
 "cells": [
  {
   "cell_type": "markdown",
   "metadata": {},
   "source": [
    "### Import Required Libraries and Set Up Environment Variables"
   ]
  },
  {
   "cell_type": "code",
   "execution_count": 63,
   "metadata": {},
   "outputs": [],
   "source": [
    "# Dependencies\n",
    "import requests\n",
    "import time\n",
    "from dotenv import load_dotenv\n",
    "import os\n",
    "import pandas as pd\n",
    "import json\n",
    "import os\n",
    "from datetime import datetime\n",
    "## Load the NASA_API_KEY from the env file\n",
    "load_dotenv()\n",
    "NASA_API_KEY = os.getenv('NASA_API_KEY')\n",
    "\n"
   ]
  },
  {
   "cell_type": "markdown",
   "metadata": {},
   "source": [
    "### CME Data"
   ]
  },
  {
   "cell_type": "code",
   "execution_count": 64,
   "metadata": {},
   "outputs": [],
   "source": [
    "# Set the base URL to NASA's DONKI API:\n",
    "base_url = \"https://api.nasa.gov/DONKI/\"\n",
    "\n",
    "# Set the specifier for CMEs:\n",
    "CME = \"CME\"\n",
    "\n",
    "# Search for CMEs published between a begin and end date\n",
    "startDate = \"2013-05-01\"\n",
    "endDate   = \"2024-05-01\"\n",
    "\n",
    "# Build URL for CME\n",
    "url = base_url + \"CME?startDate=\" + startDate + \"&endDate=\" + endDate + \"&api_key=\" + NASA_API_KEY\n"
   ]
  },
  {
   "cell_type": "code",
   "execution_count": 65,
   "metadata": {},
   "outputs": [],
   "source": [
    "# Make a \"GET\" request for the CME URL and store it in a variable named cme_response\n",
    "cme_response = requests.get(url).json()\n"
   ]
  },
  {
   "cell_type": "code",
   "execution_count": 66,
   "metadata": {},
   "outputs": [],
   "source": [
    "# Convert the response variable to json and store it as a variable named cme_json\n",
    "cme_json = json.dumps(cme_response, indent=4)\n",
    "\n",
    "\n"
   ]
  },
  {
   "cell_type": "code",
   "execution_count": 67,
   "metadata": {
    "scrolled": true
   },
   "outputs": [
    {
     "name": "stdout",
     "output_type": "stream",
     "text": [
      "{\n",
      "    \"activityID\": \"2013-05-01T03:12:00-CME-001\",\n",
      "    \"catalog\": \"M2M_CATALOG\",\n",
      "    \"startTime\": \"2013-05-01T03:12Z\",\n",
      "    \"instruments\": [\n",
      "        {\n",
      "            \"displayName\": \"SOHO: LASCO/C2\"\n",
      "        },\n",
      "        {\n",
      "            \"displayName\": \"SOHO: LASCO/C3\"\n",
      "        },\n",
      "        {\n",
      "            \"displayName\": \"STEREO A: SECCHI/COR2\"\n",
      "        },\n",
      "        {\n",
      "            \"displayName\": \"STEREO B: SECCHI/COR2\"\n",
      "        }\n",
      "    ],\n",
      "    \"sourceLocation\": \"\",\n",
      "    \"activeRegionNum\": null,\n",
      "    \"note\": \"\",\n",
      "    \"submissionTime\": \"2013-08-07T16:54Z\",\n",
      "    \"versionId\": 1,\n",
      "    \"link\": \"https://webtools.ccmc.gsfc.nasa.gov/DONKI/view/CME/2349/-1\",\n",
      "    \"cmeAnalyses\": [\n",
      "        {\n",
      "            \"isMostAccurate\": true,\n",
      "            \"time21_5\": \"2013-05-01T07:07Z\",\n",
      "            \"latitude\": 12.0,\n",
      "            \"longitude\": -120.0,\n",
      "            \"halfAngle\": 36.0,\n",
      "            \"speed\": 860.0,\n",
      "            \"type\": \"C\",\n",
      "            \"featureCode\": \"null\",\n",
      "            \"imageType\": null,\n",
      "            \"measurementTechnique\": \"null\",\n",
      "            \"note\": \"\",\n",
      "            \"levelOfData\": 0,\n",
      "            \"tilt\": null,\n",
      "            \"minorHalfWidth\": null,\n",
      "            \"speedMeasuredAtHeight\": null,\n",
      "            \"submissionTime\": \"2013-08-07T16:54Z\",\n",
      "            \"link\": \"https://webtools.ccmc.gsfc.nasa.gov/DONKI/view/CMEAnalysis/2350/-1\",\n",
      "            \"enlilList\": [\n",
      "                {\n",
      "                    \"modelCompletionTime\": \"2013-05-01T08:32Z\",\n",
      "                    \"au\": 2.0,\n",
      "                    \"estimatedShockArrivalTime\": null,\n",
      "                    \"estimatedDuration\": null,\n",
      "                    \"rmin_re\": null,\n",
      "                    \"kp_18\": null,\n",
      "                    \"kp_90\": null,\n",
      "                    \"kp_135\": null,\n",
      "                    \"kp_180\": null,\n",
      "                    \"isEarthGB\": false,\n",
      "                    \"link\": \"https://webtools.ccmc.gsfc.nasa.gov/DONKI/view/WSA-ENLIL/2348/-1\",\n",
      "                    \"impactList\": [\n",
      "                        {\n",
      "                            \"isGlancingBlow\": false,\n",
      "                            \"location\": \"STEREO B\",\n",
      "                            \"arrivalTime\": \"2013-05-04T06:16Z\"\n",
      "                        }\n",
      "                    ],\n",
      "                    \"cmeIDs\": [\n",
      "                        \"2013-05-01T03:12:00-CME-001\"\n",
      "                    ]\n",
      "                }\n",
      "            ]\n",
      "        }\n",
      "    ],\n",
      "    \"linkedEvents\": [\n",
      "        {\n",
      "            \"activityID\": \"2013-05-04T04:52:00-IPS-001\"\n",
      "        }\n",
      "    ]\n",
      "}\n"
     ]
    }
   ],
   "source": [
    "# Preview the first result in JSON format\n",
    "# Use json.dumps with argument indent=4 to format data\n",
    "print(json.dumps(cme_response[0], indent=4))\n"
   ]
  },
  {
   "cell_type": "code",
   "execution_count": 68,
   "metadata": {},
   "outputs": [
    {
     "data": {
      "text/html": [
       "<div>\n",
       "<style scoped>\n",
       "    .dataframe tbody tr th:only-of-type {\n",
       "        vertical-align: middle;\n",
       "    }\n",
       "\n",
       "    .dataframe tbody tr th {\n",
       "        vertical-align: top;\n",
       "    }\n",
       "\n",
       "    .dataframe thead th {\n",
       "        text-align: right;\n",
       "    }\n",
       "</style>\n",
       "<table border=\"1\" class=\"dataframe\">\n",
       "  <thead>\n",
       "    <tr style=\"text-align: right;\">\n",
       "      <th></th>\n",
       "      <th>activityID</th>\n",
       "      <th>startTime</th>\n",
       "      <th>linkedEvents</th>\n",
       "    </tr>\n",
       "  </thead>\n",
       "  <tbody>\n",
       "    <tr>\n",
       "      <th>0</th>\n",
       "      <td>2013-05-01T03:12:00-CME-001</td>\n",
       "      <td>2013-05-01T03:12Z</td>\n",
       "      <td>[{'activityID': '2013-05-04T04:52:00-IPS-001'}]</td>\n",
       "    </tr>\n",
       "    <tr>\n",
       "      <th>1</th>\n",
       "      <td>2013-05-02T05:24:00-CME-001</td>\n",
       "      <td>2013-05-02T05:24Z</td>\n",
       "      <td>None</td>\n",
       "    </tr>\n",
       "    <tr>\n",
       "      <th>2</th>\n",
       "      <td>2013-05-02T14:36:00-CME-001</td>\n",
       "      <td>2013-05-02T14:36Z</td>\n",
       "      <td>None</td>\n",
       "    </tr>\n",
       "    <tr>\n",
       "      <th>3</th>\n",
       "      <td>2013-05-03T18:00:00-CME-001</td>\n",
       "      <td>2013-05-03T18:00Z</td>\n",
       "      <td>None</td>\n",
       "    </tr>\n",
       "    <tr>\n",
       "      <th>4</th>\n",
       "      <td>2013-05-03T22:36:00-CME-001</td>\n",
       "      <td>2013-05-03T22:36Z</td>\n",
       "      <td>[{'activityID': '2013-05-07T04:37:00-IPS-001'}]</td>\n",
       "    </tr>\n",
       "  </tbody>\n",
       "</table>\n",
       "</div>"
      ],
      "text/plain": [
       "                    activityID          startTime  \\\n",
       "0  2013-05-01T03:12:00-CME-001  2013-05-01T03:12Z   \n",
       "1  2013-05-02T05:24:00-CME-001  2013-05-02T05:24Z   \n",
       "2  2013-05-02T14:36:00-CME-001  2013-05-02T14:36Z   \n",
       "3  2013-05-03T18:00:00-CME-001  2013-05-03T18:00Z   \n",
       "4  2013-05-03T22:36:00-CME-001  2013-05-03T22:36Z   \n",
       "\n",
       "                                      linkedEvents  \n",
       "0  [{'activityID': '2013-05-04T04:52:00-IPS-001'}]  \n",
       "1                                             None  \n",
       "2                                             None  \n",
       "3                                             None  \n",
       "4  [{'activityID': '2013-05-07T04:37:00-IPS-001'}]  "
      ]
     },
     "execution_count": 68,
     "metadata": {},
     "output_type": "execute_result"
    }
   ],
   "source": [
    "# Convert cme_json to a Pandas DataFrame\n",
    "cme_df = pd.DataFrame(cme_response)\n",
    "\n",
    "\n",
    "# Keep only the columns: activityID, startTime, linkedEvents\n",
    "cme_df = cme_df[[\"activityID\", \"startTime\", \"linkedEvents\"]]\n",
    "cme_df.head()\n"
   ]
  },
  {
   "cell_type": "code",
   "execution_count": 69,
   "metadata": {},
   "outputs": [
    {
     "data": {
      "text/html": [
       "<div>\n",
       "<style scoped>\n",
       "    .dataframe tbody tr th:only-of-type {\n",
       "        vertical-align: middle;\n",
       "    }\n",
       "\n",
       "    .dataframe tbody tr th {\n",
       "        vertical-align: top;\n",
       "    }\n",
       "\n",
       "    .dataframe thead th {\n",
       "        text-align: right;\n",
       "    }\n",
       "</style>\n",
       "<table border=\"1\" class=\"dataframe\">\n",
       "  <thead>\n",
       "    <tr style=\"text-align: right;\">\n",
       "      <th></th>\n",
       "      <th>activityID</th>\n",
       "      <th>startTime</th>\n",
       "      <th>linkedEvents</th>\n",
       "    </tr>\n",
       "  </thead>\n",
       "  <tbody>\n",
       "    <tr>\n",
       "      <th>0</th>\n",
       "      <td>2013-05-01T03:12:00-CME-001</td>\n",
       "      <td>2013-05-01T03:12Z</td>\n",
       "      <td>[{'activityID': '2013-05-04T04:52:00-IPS-001'}]</td>\n",
       "    </tr>\n",
       "    <tr>\n",
       "      <th>4</th>\n",
       "      <td>2013-05-03T22:36:00-CME-001</td>\n",
       "      <td>2013-05-03T22:36Z</td>\n",
       "      <td>[{'activityID': '2013-05-07T04:37:00-IPS-001'}]</td>\n",
       "    </tr>\n",
       "    <tr>\n",
       "      <th>7</th>\n",
       "      <td>2013-05-09T19:29:00-CME-001</td>\n",
       "      <td>2013-05-09T19:29Z</td>\n",
       "      <td>[{'activityID': '2013-05-12T23:30:00-IPS-001'}]</td>\n",
       "    </tr>\n",
       "    <tr>\n",
       "      <th>10</th>\n",
       "      <td>2013-05-13T02:54:00-CME-001</td>\n",
       "      <td>2013-05-13T02:54Z</td>\n",
       "      <td>[{'activityID': '2013-05-13T01:53:00-FLR-001'}...</td>\n",
       "    </tr>\n",
       "    <tr>\n",
       "      <th>13</th>\n",
       "      <td>2013-05-13T16:18:00-CME-001</td>\n",
       "      <td>2013-05-13T16:18Z</td>\n",
       "      <td>[{'activityID': '2013-05-13T15:40:00-FLR-001'}...</td>\n",
       "    </tr>\n",
       "  </tbody>\n",
       "</table>\n",
       "</div>"
      ],
      "text/plain": [
       "                     activityID          startTime  \\\n",
       "0   2013-05-01T03:12:00-CME-001  2013-05-01T03:12Z   \n",
       "4   2013-05-03T22:36:00-CME-001  2013-05-03T22:36Z   \n",
       "7   2013-05-09T19:29:00-CME-001  2013-05-09T19:29Z   \n",
       "10  2013-05-13T02:54:00-CME-001  2013-05-13T02:54Z   \n",
       "13  2013-05-13T16:18:00-CME-001  2013-05-13T16:18Z   \n",
       "\n",
       "                                         linkedEvents  \n",
       "0     [{'activityID': '2013-05-04T04:52:00-IPS-001'}]  \n",
       "4     [{'activityID': '2013-05-07T04:37:00-IPS-001'}]  \n",
       "7     [{'activityID': '2013-05-12T23:30:00-IPS-001'}]  \n",
       "10  [{'activityID': '2013-05-13T01:53:00-FLR-001'}...  \n",
       "13  [{'activityID': '2013-05-13T15:40:00-FLR-001'}...  "
      ]
     },
     "execution_count": 69,
     "metadata": {},
     "output_type": "execute_result"
    }
   ],
   "source": [
    "# Notice that the linkedEvents column allows us to identify the corresponding GST\n",
    "# Remove rows with missing 'linkedEvents' since we won't be able to assign these to GSTs\n",
    "cme_df = cme_df.dropna(subset=[\"linkedEvents\"])\n",
    "cme_df.head()\n"
   ]
  },
  {
   "cell_type": "code",
   "execution_count": 70,
   "metadata": {},
   "outputs": [
    {
     "data": {
      "text/html": [
       "<div>\n",
       "<style scoped>\n",
       "    .dataframe tbody tr th:only-of-type {\n",
       "        vertical-align: middle;\n",
       "    }\n",
       "\n",
       "    .dataframe tbody tr th {\n",
       "        vertical-align: top;\n",
       "    }\n",
       "\n",
       "    .dataframe thead th {\n",
       "        text-align: right;\n",
       "    }\n",
       "</style>\n",
       "<table border=\"1\" class=\"dataframe\">\n",
       "  <thead>\n",
       "    <tr style=\"text-align: right;\">\n",
       "      <th></th>\n",
       "      <th>activityID</th>\n",
       "      <th>startTime</th>\n",
       "      <th>linkedEvent</th>\n",
       "    </tr>\n",
       "  </thead>\n",
       "  <tbody>\n",
       "    <tr>\n",
       "      <th>0</th>\n",
       "      <td>2013-05-01T03:12:00-CME-001</td>\n",
       "      <td>2013-05-01T03:12Z</td>\n",
       "      <td>{'activityID': '2013-05-04T04:52:00-IPS-001'}</td>\n",
       "    </tr>\n",
       "    <tr>\n",
       "      <th>1</th>\n",
       "      <td>2013-05-03T22:36:00-CME-001</td>\n",
       "      <td>2013-05-03T22:36Z</td>\n",
       "      <td>{'activityID': '2013-05-07T04:37:00-IPS-001'}</td>\n",
       "    </tr>\n",
       "    <tr>\n",
       "      <th>2</th>\n",
       "      <td>2013-05-09T19:29:00-CME-001</td>\n",
       "      <td>2013-05-09T19:29Z</td>\n",
       "      <td>{'activityID': '2013-05-12T23:30:00-IPS-001'}</td>\n",
       "    </tr>\n",
       "    <tr>\n",
       "      <th>3</th>\n",
       "      <td>2013-05-13T02:54:00-CME-001</td>\n",
       "      <td>2013-05-13T02:54Z</td>\n",
       "      <td>{'activityID': '2013-05-13T01:53:00-FLR-001'}</td>\n",
       "    </tr>\n",
       "    <tr>\n",
       "      <th>4</th>\n",
       "      <td>2013-05-13T02:54:00-CME-001</td>\n",
       "      <td>2013-05-13T02:54Z</td>\n",
       "      <td>{'activityID': '2013-05-13T04:12:00-SEP-001'}</td>\n",
       "    </tr>\n",
       "  </tbody>\n",
       "</table>\n",
       "</div>"
      ],
      "text/plain": [
       "                    activityID          startTime  \\\n",
       "0  2013-05-01T03:12:00-CME-001  2013-05-01T03:12Z   \n",
       "1  2013-05-03T22:36:00-CME-001  2013-05-03T22:36Z   \n",
       "2  2013-05-09T19:29:00-CME-001  2013-05-09T19:29Z   \n",
       "3  2013-05-13T02:54:00-CME-001  2013-05-13T02:54Z   \n",
       "4  2013-05-13T02:54:00-CME-001  2013-05-13T02:54Z   \n",
       "\n",
       "                                     linkedEvent  \n",
       "0  {'activityID': '2013-05-04T04:52:00-IPS-001'}  \n",
       "1  {'activityID': '2013-05-07T04:37:00-IPS-001'}  \n",
       "2  {'activityID': '2013-05-12T23:30:00-IPS-001'}  \n",
       "3  {'activityID': '2013-05-13T01:53:00-FLR-001'}  \n",
       "4  {'activityID': '2013-05-13T04:12:00-SEP-001'}  "
      ]
     },
     "execution_count": 70,
     "metadata": {},
     "output_type": "execute_result"
    }
   ],
   "source": [
    "# Notice that the linkedEvents sometimes contains multiple events per row\n",
    "# Write a nested for loop that iterates first over each row in the cme DataFrame (using the index)\n",
    "# and then iterates over the values in 'linkedEvents' \n",
    "# and adds the elements individually to a list of dictionaries where each row is one element \n",
    "\n",
    "# Initialize an empty list to store the expanded rows\n",
    "expanded_rows = []\n",
    "\n",
    "\n",
    "# Iterate over each index in the DataFrame\n",
    "for x in cme_df.index:\n",
    "    activityID = cme_df.loc[x, \"activityID\"]\n",
    "    startTime = cme_df.loc[x, \"startTime\"]\n",
    "    linkedEvents = cme_df.loc[x, \"linkedEvents\"]    \n",
    "\n",
    "    # Iterate over each dictionary in the list\n",
    "    for linkedEvent in linkedEvents:\n",
    "\n",
    "    \n",
    "        # Append a new dictionary to the expanded_rows list for each dictionary item and corresponding 'activityID' and 'startTime' value\n",
    "        expanded_rows.append({\"activityID\": activityID, \"startTime\": startTime, \"linkedEvent\": linkedEvent})\n",
    "      \n",
    "# Create a new DataFrame from the expanded rows\n",
    "expanded_df = pd.DataFrame(expanded_rows)\n",
    "expanded_df.head()\n"
   ]
  },
  {
   "cell_type": "code",
   "execution_count": 71,
   "metadata": {},
   "outputs": [
    {
     "data": {
      "text/plain": [
       "'2013-05-04T04:52:00-IPS-001'"
      ]
     },
     "execution_count": 71,
     "metadata": {},
     "output_type": "execute_result"
    }
   ],
   "source": [
    "# Create a function called extract_activityID_from_dict that takes a dict as input such as in linkedEvents\n",
    "# and verify below that it works as expected using one row from linkedEvents as an example\n",
    "# Be sure to use a try and except block to handle errors\n",
    "def extract_activityID_from_dict(linkedEvent):\n",
    "        try:\n",
    "            activityID = linkedEvent.get(\"activityID\", None)\n",
    "            return activityID\n",
    "        except(ValueError, TypeError) as e:\n",
    "                # Log the error or print it for debugging\n",
    "                print(\"Error with activityID\", e)\n",
    "                return None\n",
    "        \n",
    "\n",
    "        \n",
    "\n",
    "extract_activityID_from_dict(expanded_df.loc[0, \"linkedEvent\"])\n",
    "\n"
   ]
  },
  {
   "cell_type": "code",
   "execution_count": 72,
   "metadata": {},
   "outputs": [
    {
     "data": {
      "text/html": [
       "<div>\n",
       "<style scoped>\n",
       "    .dataframe tbody tr th:only-of-type {\n",
       "        vertical-align: middle;\n",
       "    }\n",
       "\n",
       "    .dataframe tbody tr th {\n",
       "        vertical-align: top;\n",
       "    }\n",
       "\n",
       "    .dataframe thead th {\n",
       "        text-align: right;\n",
       "    }\n",
       "</style>\n",
       "<table border=\"1\" class=\"dataframe\">\n",
       "  <thead>\n",
       "    <tr style=\"text-align: right;\">\n",
       "      <th></th>\n",
       "      <th>activityID</th>\n",
       "      <th>startTime</th>\n",
       "      <th>linkedEvent</th>\n",
       "      <th>GST_ActivityID</th>\n",
       "    </tr>\n",
       "  </thead>\n",
       "  <tbody>\n",
       "    <tr>\n",
       "      <th>0</th>\n",
       "      <td>2013-05-01T03:12:00-CME-001</td>\n",
       "      <td>2013-05-01T03:12Z</td>\n",
       "      <td>{'activityID': '2013-05-04T04:52:00-IPS-001'}</td>\n",
       "      <td>2013-05-04T04:52:00-IPS-001</td>\n",
       "    </tr>\n",
       "    <tr>\n",
       "      <th>1</th>\n",
       "      <td>2013-05-03T22:36:00-CME-001</td>\n",
       "      <td>2013-05-03T22:36Z</td>\n",
       "      <td>{'activityID': '2013-05-07T04:37:00-IPS-001'}</td>\n",
       "      <td>2013-05-07T04:37:00-IPS-001</td>\n",
       "    </tr>\n",
       "    <tr>\n",
       "      <th>2</th>\n",
       "      <td>2013-05-09T19:29:00-CME-001</td>\n",
       "      <td>2013-05-09T19:29Z</td>\n",
       "      <td>{'activityID': '2013-05-12T23:30:00-IPS-001'}</td>\n",
       "      <td>2013-05-12T23:30:00-IPS-001</td>\n",
       "    </tr>\n",
       "    <tr>\n",
       "      <th>3</th>\n",
       "      <td>2013-05-13T02:54:00-CME-001</td>\n",
       "      <td>2013-05-13T02:54Z</td>\n",
       "      <td>{'activityID': '2013-05-13T01:53:00-FLR-001'}</td>\n",
       "      <td>2013-05-13T01:53:00-FLR-001</td>\n",
       "    </tr>\n",
       "    <tr>\n",
       "      <th>4</th>\n",
       "      <td>2013-05-13T02:54:00-CME-001</td>\n",
       "      <td>2013-05-13T02:54Z</td>\n",
       "      <td>{'activityID': '2013-05-13T04:12:00-SEP-001'}</td>\n",
       "      <td>2013-05-13T04:12:00-SEP-001</td>\n",
       "    </tr>\n",
       "  </tbody>\n",
       "</table>\n",
       "</div>"
      ],
      "text/plain": [
       "                    activityID          startTime  \\\n",
       "0  2013-05-01T03:12:00-CME-001  2013-05-01T03:12Z   \n",
       "1  2013-05-03T22:36:00-CME-001  2013-05-03T22:36Z   \n",
       "2  2013-05-09T19:29:00-CME-001  2013-05-09T19:29Z   \n",
       "3  2013-05-13T02:54:00-CME-001  2013-05-13T02:54Z   \n",
       "4  2013-05-13T02:54:00-CME-001  2013-05-13T02:54Z   \n",
       "\n",
       "                                     linkedEvent               GST_ActivityID  \n",
       "0  {'activityID': '2013-05-04T04:52:00-IPS-001'}  2013-05-04T04:52:00-IPS-001  \n",
       "1  {'activityID': '2013-05-07T04:37:00-IPS-001'}  2013-05-07T04:37:00-IPS-001  \n",
       "2  {'activityID': '2013-05-12T23:30:00-IPS-001'}  2013-05-12T23:30:00-IPS-001  \n",
       "3  {'activityID': '2013-05-13T01:53:00-FLR-001'}  2013-05-13T01:53:00-FLR-001  \n",
       "4  {'activityID': '2013-05-13T04:12:00-SEP-001'}  2013-05-13T04:12:00-SEP-001  "
      ]
     },
     "execution_count": 72,
     "metadata": {},
     "output_type": "execute_result"
    }
   ],
   "source": [
    "# Apply this function to each row in the 'linkedEvents' column (you can use apply() and a lambda function)\n",
    "# and create a new column called 'GST_ActivityID' using loc indexer:\n",
    "expanded_df.loc[:,\"GST_ActivityID\"] = expanded_df[\"linkedEvent\"].apply(lambda x: extract_activityID_from_dict(x))\n",
    "expanded_df.head()\n"
   ]
  },
  {
   "cell_type": "code",
   "execution_count": 73,
   "metadata": {},
   "outputs": [],
   "source": [
    "# Remove rows with missing GST_ActivityID, since we can't assign them to GSTs:\n",
    "expanded_df = expanded_df.dropna(subset=[\"GST_ActivityID\"])\n"
   ]
  },
  {
   "cell_type": "code",
   "execution_count": 74,
   "metadata": {},
   "outputs": [
    {
     "name": "stdout",
     "output_type": "stream",
     "text": [
      "<class 'pandas.core.frame.DataFrame'>\n",
      "RangeIndex: 1714 entries, 0 to 1713\n",
      "Data columns (total 4 columns):\n",
      " #   Column          Non-Null Count  Dtype \n",
      "---  ------          --------------  ----- \n",
      " 0   activityID      1714 non-null   object\n",
      " 1   startTime       1714 non-null   object\n",
      " 2   linkedEvent     1714 non-null   object\n",
      " 3   GST_ActivityID  1714 non-null   object\n",
      "dtypes: object(4)\n",
      "memory usage: 53.7+ KB\n",
      "None\n"
     ]
    }
   ],
   "source": [
    "# print out the datatype of each column in this DataFrame:\n",
    "print(expanded_df.info())   \n"
   ]
  },
  {
   "cell_type": "code",
   "execution_count": 75,
   "metadata": {},
   "outputs": [
    {
     "data": {
      "text/html": [
       "<div>\n",
       "<style scoped>\n",
       "    .dataframe tbody tr th:only-of-type {\n",
       "        vertical-align: middle;\n",
       "    }\n",
       "\n",
       "    .dataframe tbody tr th {\n",
       "        vertical-align: top;\n",
       "    }\n",
       "\n",
       "    .dataframe thead th {\n",
       "        text-align: right;\n",
       "    }\n",
       "</style>\n",
       "<table border=\"1\" class=\"dataframe\">\n",
       "  <thead>\n",
       "    <tr style=\"text-align: right;\">\n",
       "      <th></th>\n",
       "      <th>cmeID</th>\n",
       "      <th>startTime_CME</th>\n",
       "      <th>GST_ActivityID</th>\n",
       "    </tr>\n",
       "  </thead>\n",
       "  <tbody>\n",
       "    <tr>\n",
       "      <th>0</th>\n",
       "      <td>2013-05-01T03:12:00-CME-001</td>\n",
       "      <td>2013-05-01 03:12:00+00:00</td>\n",
       "      <td>2013-05-04T04:52:00-IPS-001</td>\n",
       "    </tr>\n",
       "    <tr>\n",
       "      <th>1</th>\n",
       "      <td>2013-05-03T22:36:00-CME-001</td>\n",
       "      <td>2013-05-03 22:36:00+00:00</td>\n",
       "      <td>2013-05-07T04:37:00-IPS-001</td>\n",
       "    </tr>\n",
       "    <tr>\n",
       "      <th>2</th>\n",
       "      <td>2013-05-09T19:29:00-CME-001</td>\n",
       "      <td>2013-05-09 19:29:00+00:00</td>\n",
       "      <td>2013-05-12T23:30:00-IPS-001</td>\n",
       "    </tr>\n",
       "    <tr>\n",
       "      <th>3</th>\n",
       "      <td>2013-05-13T02:54:00-CME-001</td>\n",
       "      <td>2013-05-13 02:54:00+00:00</td>\n",
       "      <td>2013-05-13T01:53:00-FLR-001</td>\n",
       "    </tr>\n",
       "    <tr>\n",
       "      <th>4</th>\n",
       "      <td>2013-05-13T02:54:00-CME-001</td>\n",
       "      <td>2013-05-13 02:54:00+00:00</td>\n",
       "      <td>2013-05-13T04:12:00-SEP-001</td>\n",
       "    </tr>\n",
       "  </tbody>\n",
       "</table>\n",
       "</div>"
      ],
      "text/plain": [
       "                         cmeID             startTime_CME  \\\n",
       "0  2013-05-01T03:12:00-CME-001 2013-05-01 03:12:00+00:00   \n",
       "1  2013-05-03T22:36:00-CME-001 2013-05-03 22:36:00+00:00   \n",
       "2  2013-05-09T19:29:00-CME-001 2013-05-09 19:29:00+00:00   \n",
       "3  2013-05-13T02:54:00-CME-001 2013-05-13 02:54:00+00:00   \n",
       "4  2013-05-13T02:54:00-CME-001 2013-05-13 02:54:00+00:00   \n",
       "\n",
       "                GST_ActivityID  \n",
       "0  2013-05-04T04:52:00-IPS-001  \n",
       "1  2013-05-07T04:37:00-IPS-001  \n",
       "2  2013-05-12T23:30:00-IPS-001  \n",
       "3  2013-05-13T01:53:00-FLR-001  \n",
       "4  2013-05-13T04:12:00-SEP-001  "
      ]
     },
     "execution_count": 75,
     "metadata": {},
     "output_type": "execute_result"
    }
   ],
   "source": [
    "# Convert the 'GST_ActivityID' column to string format\n",
    "expanded_df[\"GST_ActivityID\"] = expanded_df[\"GST_ActivityID\"].astype(\"string\") \n",
    "\n",
    "# Convert startTime to datetime format\n",
    "expanded_df[\"startTime\"] = pd.to_datetime(expanded_df[\"startTime\"])  \n",
    "\n",
    "# Rename startTime to startTime_CME and activityID to cmeID\n",
    "expanded_df = expanded_df.rename(columns={\"startTime\": \"startTime_CME\", \"activityID\": \"cmeID\"})\n",
    "\n",
    "# Drop linkedEvents\n",
    "expanded_df = expanded_df.drop(columns=[\"linkedEvent\"])\n",
    "\n",
    "# Verify that all steps were executed correctly\n",
    "expanded_df.head()\n"
   ]
  },
  {
   "cell_type": "code",
   "execution_count": 76,
   "metadata": {},
   "outputs": [],
   "source": [
    "# We are only interested in CMEs related to GSTs so keep only rows where the GST_ActivityID column contains 'GST'\n",
    "# use the method 'contains()' from the str library.\n",
    "expanded_df = expanded_df[expanded_df[\"GST_ActivityID\"].str.contains(\"GST\")]\n",
    "  \n"
   ]
  },
  {
   "cell_type": "markdown",
   "metadata": {},
   "source": [
    "### GST Data"
   ]
  },
  {
   "cell_type": "code",
   "execution_count": 77,
   "metadata": {},
   "outputs": [],
   "source": [
    "# Set the base URL to NASA's DONKI API:\n",
    "base_url = \"https://api.nasa.gov/DONKI/\"\n",
    "\n",
    "# Set the specifier for Geomagnetic Storms (GST):\n",
    "GST = \"GST\"\n",
    "\n",
    "# Search for GSTs between a begin and end date\n",
    "startDate = \"2013-05-01\"\n",
    "endDate   = \"2024-05-01\"\n",
    "\n",
    "NASA_API_KEY = os.getenv('NASA_API_KEY')    \n",
    "\n",
    "# Build URL for GST\n",
    "url = base_url + \"GST?startDate=\" + startDate + \"&endDate=\" + endDate + \"&api_key=\" + NASA_API_KEY\n"
   ]
  },
  {
   "cell_type": "code",
   "execution_count": 78,
   "metadata": {},
   "outputs": [],
   "source": [
    "# Make a \"GET\" request for the GST URL and store it in a variable named gst_response\n",
    "gst_response = requests.get(url).json()\n"
   ]
  },
  {
   "cell_type": "code",
   "execution_count": 79,
   "metadata": {},
   "outputs": [
    {
     "name": "stdout",
     "output_type": "stream",
     "text": [
      "{\n",
      "    \"gstID\": \"2013-06-01T01:00:00-GST-001\",\n",
      "    \"startTime\": \"2013-06-01T01:00Z\",\n",
      "    \"allKpIndex\": [\n",
      "        {\n",
      "            \"observedTime\": \"2013-06-01T01:00Z\",\n",
      "            \"kpIndex\": 6.0,\n",
      "            \"source\": \"NOAA\"\n",
      "        }\n",
      "    ],\n",
      "    \"link\": \"https://webtools.ccmc.gsfc.nasa.gov/DONKI/view/GST/326/-1\",\n",
      "    \"linkedEvents\": [\n",
      "        {\n",
      "            \"activityID\": \"2013-05-31T15:45:00-HSS-001\"\n",
      "        }\n",
      "    ],\n",
      "    \"submissionTime\": \"2013-07-15T19:26Z\",\n",
      "    \"versionId\": 1\n",
      "}\n",
      "{\n",
      "    \"gstID\": \"2013-06-01T01:00:00-GST-001\",\n",
      "    \"startTime\": \"2013-06-01T01:00Z\",\n",
      "    \"allKpIndex\": [\n",
      "        {\n",
      "            \"observedTime\": \"2013-06-01T01:00Z\",\n",
      "            \"kpIndex\": 6.0,\n",
      "            \"source\": \"NOAA\"\n",
      "        }\n",
      "    ],\n",
      "    \"link\": \"https://webtools.ccmc.gsfc.nasa.gov/DONKI/view/GST/326/-1\",\n",
      "    \"linkedEvents\": [\n",
      "        {\n",
      "            \"activityID\": \"2013-05-31T15:45:00-HSS-001\"\n",
      "        }\n",
      "    ],\n",
      "    \"submissionTime\": \"2013-07-15T19:26Z\",\n",
      "    \"versionId\": 1\n",
      "}\n"
     ]
    }
   ],
   "source": [
    "# Ensure gst_response is defined\n",
    "if 'gst_response' not in globals():\n",
    "\tgst_response = requests.get(url).json()\n",
    "\n",
    "# Convert the response variable to json and store it as a variable named gst_json\n",
    "gst_json = gst_response\n",
    "\n",
    "# Preview the first result in JSON format\n",
    "print(json.dumps(gst_json[0], indent=4))\n",
    "\n",
    "# Use json.dumps with argument indent=4 to format data\n",
    "print(json.dumps(gst_json[0], indent=4))\n",
    "\n"
   ]
  },
  {
   "cell_type": "code",
   "execution_count": 80,
   "metadata": {},
   "outputs": [
    {
     "name": "stdout",
     "output_type": "stream",
     "text": [
      "Index(['gstID', 'startTime', 'allKpIndex', 'link', 'linkedEvents',\n",
      "       'submissionTime', 'versionId'],\n",
      "      dtype='object')\n"
     ]
    }
   ],
   "source": [
    "# Convert gst_json to a Pandas DataFrame\n",
    "gst_df = pd.DataFrame(gst_json)  \n",
    "\n",
    "# Check the columns in the DataFrame\n",
    "print(gst_df.columns)\n",
    "\n",
    "# Keep only the columns: gstID, startTime, linkedEvents\n",
    "gst_df = gst_df[[\"gstID\", \"startTime\", \"linkedEvents\"]]\n"
   ]
  },
  {
   "cell_type": "code",
   "execution_count": 81,
   "metadata": {},
   "outputs": [],
   "source": [
    "# Notice that the linkedEvents column allows us to identify the corresponding CME\n",
    "# Remove rows with missing 'linkedEvents' since we won't be able to assign these to CME\n",
    "gst_df = gst_df.dropna(subset=[\"linkedEvents\"])\n"
   ]
  },
  {
   "cell_type": "code",
   "execution_count": 82,
   "metadata": {},
   "outputs": [],
   "source": [
    "# Notice that the linkedEvents sometimes contains multiple events per row\n",
    "# Use the explode method to ensure that each row is one element. Ensure to reset the index and drop missing values.\n",
    "values = gst_df[\"linkedEvents\"].explode().reset_index(drop=True).dropna()\n",
    "\n"
   ]
  },
  {
   "cell_type": "code",
   "execution_count": 83,
   "metadata": {},
   "outputs": [],
   "source": [
    "# Ensure gst_df is defined\n",
    "if 'gst_df' not in globals():\n",
    "\tgst_df = pd.DataFrame(gst_json)\n",
    "\n",
    "# Explode the 'linkedEvents' column to ensure each row is one element\n",
    "exploded_gst_df = gst_df.explode('linkedEvents').reset_index(drop=True)\n",
    "\n",
    "# Apply the extract_activityID_from_dict function to each row in the 'linkedEvents' column (you can use apply() and a lambda function)\n",
    "# and create a new column called 'CME_ActivityID' using loc indexer:\n",
    "exploded_gst_df.loc[:,\"CME_ActivityID\"] = exploded_gst_df[\"linkedEvents\"].apply(lambda x: extract_activityID_from_dict(x))\n",
    "exploded_gst_df.head()\n",
    "\n",
    "# Remove rows with missing CME_ActivityID, since we can't assign them to CMEs:\n",
    "exploded_gst_df = exploded_gst_df.dropna(subset=[\"CME_ActivityID\"])\n"
   ]
  },
  {
   "cell_type": "code",
   "execution_count": 84,
   "metadata": {},
   "outputs": [
    {
     "data": {
      "text/html": [
       "<div>\n",
       "<style scoped>\n",
       "    .dataframe tbody tr th:only-of-type {\n",
       "        vertical-align: middle;\n",
       "    }\n",
       "\n",
       "    .dataframe tbody tr th {\n",
       "        vertical-align: top;\n",
       "    }\n",
       "\n",
       "    .dataframe thead th {\n",
       "        text-align: right;\n",
       "    }\n",
       "</style>\n",
       "<table border=\"1\" class=\"dataframe\">\n",
       "  <thead>\n",
       "    <tr style=\"text-align: right;\">\n",
       "      <th></th>\n",
       "      <th>gstID</th>\n",
       "      <th>startTime_GST</th>\n",
       "      <th>CME_ActivityID</th>\n",
       "    </tr>\n",
       "  </thead>\n",
       "  <tbody>\n",
       "    <tr>\n",
       "      <th>0</th>\n",
       "      <td>2013-06-01T01:00:00-GST-001</td>\n",
       "      <td>2013-06-01 01:00:00+00:00</td>\n",
       "      <td>2013-05-31T15:45:00-HSS-001</td>\n",
       "    </tr>\n",
       "    <tr>\n",
       "      <th>1</th>\n",
       "      <td>2013-06-07T03:00:00-GST-001</td>\n",
       "      <td>2013-06-07 03:00:00+00:00</td>\n",
       "      <td>2013-06-02T20:24:00-CME-001</td>\n",
       "    </tr>\n",
       "    <tr>\n",
       "      <th>2</th>\n",
       "      <td>2013-10-02T03:00:00-GST-001</td>\n",
       "      <td>2013-10-02 03:00:00+00:00</td>\n",
       "      <td>2013-09-29T22:40:00-CME-001</td>\n",
       "    </tr>\n",
       "    <tr>\n",
       "      <th>3</th>\n",
       "      <td>2013-10-02T03:00:00-GST-001</td>\n",
       "      <td>2013-10-02 03:00:00+00:00</td>\n",
       "      <td>2013-10-02T01:54:00-IPS-001</td>\n",
       "    </tr>\n",
       "    <tr>\n",
       "      <th>4</th>\n",
       "      <td>2013-10-02T03:00:00-GST-001</td>\n",
       "      <td>2013-10-02 03:00:00+00:00</td>\n",
       "      <td>2013-10-02T02:47:00-MPC-001</td>\n",
       "    </tr>\n",
       "  </tbody>\n",
       "</table>\n",
       "</div>"
      ],
      "text/plain": [
       "                         gstID             startTime_GST  \\\n",
       "0  2013-06-01T01:00:00-GST-001 2013-06-01 01:00:00+00:00   \n",
       "1  2013-06-07T03:00:00-GST-001 2013-06-07 03:00:00+00:00   \n",
       "2  2013-10-02T03:00:00-GST-001 2013-10-02 03:00:00+00:00   \n",
       "3  2013-10-02T03:00:00-GST-001 2013-10-02 03:00:00+00:00   \n",
       "4  2013-10-02T03:00:00-GST-001 2013-10-02 03:00:00+00:00   \n",
       "\n",
       "                CME_ActivityID  \n",
       "0  2013-05-31T15:45:00-HSS-001  \n",
       "1  2013-06-02T20:24:00-CME-001  \n",
       "2  2013-09-29T22:40:00-CME-001  \n",
       "3  2013-10-02T01:54:00-IPS-001  \n",
       "4  2013-10-02T02:47:00-MPC-001  "
      ]
     },
     "execution_count": 84,
     "metadata": {},
     "output_type": "execute_result"
    }
   ],
   "source": [
    "# Convert the 'CME_ActivityID' column to string format\n",
    "exploded_gst_df[\"CME_ActivityID\"] = exploded_gst_df[\"CME_ActivityID\"].astype(\"string\") \n",
    "\n",
    "# Convert the 'gstID' column to string format\n",
    "exploded_gst_df[\"gstID\"] = exploded_gst_df[\"gstID\"].astype(\"string\")  \n",
    "\n",
    "# Convert startTime to datetime format\n",
    "exploded_gst_df[\"startTime\"] = pd.to_datetime(exploded_gst_df[\"startTime\"])\n",
    "\n",
    "\n",
    "# Rename startTime to startTime_GST\n",
    "exploded_gst_df = exploded_gst_df.rename(columns={\"startTime\": \"startTime_GST\"})\n",
    "\n",
    "\n",
    "# Drop linkedEvents\n",
    "exploded_gst_df = exploded_gst_df.drop(columns=[\"linkedEvents\"])\n",
    "\n",
    "\n",
    "# Verify that all steps were executed correctly\n",
    "exploded_gst_df.head()\n",
    "\n"
   ]
  },
  {
   "cell_type": "code",
   "execution_count": 96,
   "metadata": {},
   "outputs": [
    {
     "name": "stdout",
     "output_type": "stream",
     "text": [
      "                         gstID             startTime_GST  \\\n",
      "1  2013-06-07T03:00:00-GST-001 2013-06-07 03:00:00+00:00   \n",
      "2  2013-10-02T03:00:00-GST-001 2013-10-02 03:00:00+00:00   \n",
      "5  2013-12-08T00:00:00-GST-001 2013-12-08 00:00:00+00:00   \n",
      "7  2014-02-19T03:00:00-GST-001 2014-02-19 03:00:00+00:00   \n",
      "9  2014-02-20T03:00:00-GST-001 2014-02-20 03:00:00+00:00   \n",
      "\n",
      "                CME_ActivityID  \n",
      "1  2013-06-02T20:24:00-CME-001  \n",
      "2  2013-09-29T22:40:00-CME-001  \n",
      "5  2013-12-04T23:12:00-CME-001  \n",
      "7  2014-02-16T14:15:00-CME-001  \n",
      "9  2014-02-18T01:25:00-CME-001  \n"
     ]
    }
   ],
   "source": [
    "# We are only interested in GSTs related to CMEs so keep only rows where the CME_ActivityID column contains 'CME'\n",
    "# use the method 'contains()' from the str library.\n",
    "exploded_gst_df = exploded_gst_df[exploded_gst_df[\"CME_ActivityID\"].str.contains(\"CME\")]\n",
    "print(exploded_gst_df.head())\n",
    "  \n"
   ]
  },
  {
   "cell_type": "markdown",
   "metadata": {},
   "source": [
    "### Merge both datatsets"
   ]
  },
  {
   "cell_type": "code",
   "execution_count": 114,
   "metadata": {},
   "outputs": [
    {
     "name": "stdout",
     "output_type": "stream",
     "text": [
      "                         gstID              startTime_GST  \\\n",
      "0  2013-06-01T01:00:00-GST-001  2013-06-01 01:00:00+00:00   \n",
      "1  2013-06-07T03:00:00-GST-001  2013-06-07 03:00:00+00:00   \n",
      "2  2013-10-02T03:00:00-GST-001  2013-10-02 03:00:00+00:00   \n",
      "3  2013-12-08T00:00:00-GST-001  2013-12-08 00:00:00+00:00   \n",
      "4  2014-02-19T03:00:00-GST-001  2014-02-19 03:00:00+00:00   \n",
      "\n",
      "                CME_ActivityID               GST_ActivityID  \\\n",
      "0  2013-05-31T15:45:00-HSS-001  2013-06-01T01:00:00-GST-001   \n",
      "1  2013-06-02T20:24:00-CME-001  2013-06-07T03:00:00-GST-001   \n",
      "2  2013-09-29T22:40:00-CME-001  2013-10-02T03:00:00-GST-001   \n",
      "3  2013-12-04T23:12:00-CME-001  2013-12-08T00:00:00-GST-001   \n",
      "4  2014-02-16T14:15:00-CME-001  2014-02-19T03:00:00-GST-001   \n",
      "\n",
      "                         cmeID  \n",
      "0  2013-05-31T15:45:00-HSS-001  \n",
      "1  2013-06-02T20:24:00-CME-001  \n",
      "2  2013-09-29T22:40:00-CME-001  \n",
      "3  2013-12-04T23:12:00-CME-001  \n",
      "4  2014-02-16T14:15:00-CME-001  \n"
     ]
    }
   ],
   "source": [
    "# Now merge both datasets using 'gstID' and 'CME_ActivityID' for gst and 'GST_ActivityID' and 'cmeID' for cme. Use the 'left_on' and 'right_on' specifiers.\n",
    "gst_data = {\n",
    "    \"gstID\": [\n",
    "        \"2013-06-01T01:00:00-GST-001\",\n",
    "        \"2013-06-07T03:00:00-GST-001\",\n",
    "        \"2013-10-02T03:00:00-GST-001\",\n",
    "        \"2013-12-08T00:00:00-GST-001\",\n",
    "        \"2014-02-19T03:00:00-GST-001\",\n",
    "        \"2014-02-20T03:00:00-GST-001\",\n",
    "    ],\n",
    "    \"startTime_GST\": [\n",
    "        \"2013-06-01 01:00:00+00:00\",\n",
    "        \"2013-06-07 03:00:00+00:00\",\n",
    "        \"2013-10-02 03:00:00+00:00\",\n",
    "        \"2013-12-08 00:00:00+00:00\",\n",
    "        \"2014-02-19 03:00:00+00:00\",\n",
    "        \"2014-02-20 03:00:00+00:00\",\n",
    "    ],\n",
    "    \"CME_ActivityID\": [\n",
    "        \"2013-05-31T15:45:00-HSS-001\",\n",
    "        \"2013-06-02T20:24:00-CME-001\",\n",
    "        \"2013-09-29T22:40:00-CME-001\",\n",
    "        \"2013-12-04T23:12:00-CME-001\",\n",
    "        \"2014-02-16T14:15:00-CME-001\",\n",
    "        \"2014-02-18T01:25:00-CME-001\",\n",
    "    ],\n",
    "}\n",
    "\n",
    "# Sample CME data\n",
    "cme_data = {\n",
    "    \"GST_ActivityID\": [\n",
    "        \"2013-06-01T01:00:00-GST-001\",\n",
    "        \"2013-06-07T03:00:00-GST-001\",\n",
    "        \"2013-10-02T03:00:00-GST-001\",\n",
    "        \"2013-12-08T00:00:00-GST-001\",\n",
    "        \"2014-02-19T03:00:00-GST-001\",\n",
    "    ],\n",
    "    \"cmeID\": [\n",
    "        \"2013-05-31T15:45:00-HSS-001\",\n",
    "        \"2013-06-02T20:24:00-CME-001\",\n",
    "        \"2013-09-29T22:40:00-CME-001\",\n",
    "        \"2013-12-04T23:12:00-CME-001\",\n",
    "        \"2014-02-16T14:15:00-CME-001\",\n",
    "    ],\n",
    "}\n",
    "\n",
    "# Create DataFrames\n",
    "gst_df = pd.DataFrame(gst_data)\n",
    "cme_df = pd.DataFrame(cme_data)\n",
    "\n",
    "# Merge the datasets\n",
    "merged_df = pd.merge(\n",
    "    gst_df,\n",
    "    cme_df,\n",
    "    left_on=[\"gstID\", \"CME_ActivityID\"],\n",
    "    right_on=[\"GST_ActivityID\", \"cmeID\"],\n",
    "    how=\"inner\",  # Change to 'outer', 'left', or 'right' depending on the requirement\n",
    ")\n",
    "\n",
    "# Display the merged DataFrame\n",
    "print(merged_df)\n",
    "\n"
   ]
  },
  {
   "cell_type": "code",
   "execution_count": 117,
   "metadata": {},
   "outputs": [
    {
     "name": "stdout",
     "output_type": "stream",
     "text": [
      "Number of rows in GST DataFrame: 6\n",
      "Number of rows in CME DataFrame: 5\n",
      "Number of rows in Merged DataFrame: 5\n",
      "The merged DataFrame has the same number of rows as the CME DataFrame.\n"
     ]
    }
   ],
   "source": [
    "# Compare the row counts of gst, cme, and merged DataFrames\n",
    "gst_rows = len(gst_df)\n",
    "cme_rows = len(cme_df)\n",
    "merged_rows = len(merged_df)\n",
    "\n",
    "print(f\"Number of rows in GST DataFrame: {gst_rows}\")\n",
    "print(f\"Number of rows in CME DataFrame: {cme_rows}\")\n",
    "print(f\"Number of rows in Merged DataFrame: {merged_rows}\")\n",
    "\n",
    "# Verify if the merged DataFrame rows match either GST or CME\n",
    "if merged_rows == gst_rows and merged_rows == cme_rows:\n",
    "    print(\"The merged DataFrame has the same number of rows as both GST and CME DataFrames.\")\n",
    "elif merged_rows == gst_rows:\n",
    "    print(\"The merged DataFrame has the same number of rows as the GST DataFrame.\")\n",
    "elif merged_rows == cme_rows:\n",
    "    print(\"The merged DataFrame has the same number of rows as the CME DataFrame.\")\n",
    "else:\n",
    "    print(\"The merged DataFrame does not have the same number of rows as either GST or CME DataFrames.\")\n",
    "\n"
   ]
  },
  {
   "cell_type": "markdown",
   "metadata": {},
   "source": [
    "### Computing the time it takes for a CME to cause a GST"
   ]
  },
  {
   "cell_type": "code",
   "execution_count": 119,
   "metadata": {},
   "outputs": [
    {
     "name": "stdout",
     "output_type": "stream",
     "text": [
      "                         gstID             startTime_GST  \\\n",
      "0  2013-06-01T01:00:00-GST-001 2013-06-01 01:00:00+00:00   \n",
      "1  2013-06-07T03:00:00-GST-001 2013-06-07 03:00:00+00:00   \n",
      "2  2013-10-02T03:00:00-GST-001 2013-10-02 03:00:00+00:00   \n",
      "3  2013-12-08T00:00:00-GST-001 2013-12-08 00:00:00+00:00   \n",
      "\n",
      "              startTime_CME        timeDiff  \n",
      "0 2013-05-31 15:45:00+00:00 0 days 09:15:00  \n",
      "1 2013-06-02 20:24:00+00:00 4 days 06:36:00  \n",
      "2 2013-09-29 22:40:00+00:00 2 days 04:20:00  \n",
      "3 2013-12-04 23:12:00+00:00 3 days 00:48:00  \n"
     ]
    }
   ],
   "source": [
    "# Compute the time diff between startTime_GST and startTime_CME by creating a new column called `timeDiff`.\n",
    "# Convert columns to datetime format\n",
    "data = {\n",
    "    \"gstID\": [\n",
    "        \"2013-06-01T01:00:00-GST-001\",\n",
    "        \"2013-06-07T03:00:00-GST-001\",\n",
    "        \"2013-10-02T03:00:00-GST-001\",\n",
    "        \"2013-12-08T00:00:00-GST-001\",\n",
    "    ],\n",
    "    \"startTime_GST\": [\n",
    "        \"2013-06-01T01:00:00+00:00\",\n",
    "        \"2013-06-07T03:00:00+00:00\",\n",
    "        \"2013-10-02T03:00:00+00:00\",\n",
    "        \"2013-12-08T00:00:00+00:00\",\n",
    "    ],\n",
    "    \"startTime_CME\": [\n",
    "        \"2013-05-31T15:45:00+00:00\",\n",
    "        \"2013-06-02T20:24:00+00:00\",\n",
    "        \"2013-09-29T22:40:00+00:00\",\n",
    "        \"2013-12-04T23:12:00+00:00\",\n",
    "    ],\n",
    "}\n",
    "\n",
    "# Create DataFrame\n",
    "df = pd.DataFrame(data)\n",
    "\n",
    "# Convert startTime_GST and startTime_CME to datetime\n",
    "df[\"startTime_GST\"] = pd.to_datetime(df[\"startTime_GST\"])\n",
    "df[\"startTime_CME\"] = pd.to_datetime(df[\"startTime_CME\"])\n",
    "\n",
    "# Compute the time difference\n",
    "df[\"timeDiff\"] = df[\"startTime_GST\"] - df[\"startTime_CME\"]\n",
    "\n",
    "# Display the resulting DataFrame\n",
    "print(df)\n",
    "    \n",
    "\n",
    "\n",
    "\n",
    "\n",
    "\n"
   ]
  },
  {
   "cell_type": "code",
   "execution_count": 122,
   "metadata": {},
   "outputs": [
    {
     "name": "stdout",
     "output_type": "stream",
     "text": [
      "Descriptive Statistics for Time Differences:\n",
      "count         4.000000\n",
      "mean     213285.000000\n",
      "std      141131.405789\n",
      "min       33300.000000\n",
      "25%      149625.000000\n",
      "50%      225240.000000\n",
      "75%      288900.000000\n",
      "max      369360.000000\n",
      "Name: timeDiff_seconds, dtype: float64\n",
      "\n",
      "Mean Time Difference: 2 days 11:14:45\n",
      "Median Time Difference: 2 days 14:34:00\n",
      "Mean Time for a CME to cause a GST: 2 days 11:14:45\n",
      "Median Time for a CME to cause a GST: 2 days 14:34:00\n"
     ]
    }
   ],
   "source": [
    "# Use describe() to compute the mean and median time\n",
    "df[\"timeDiff_seconds\"] = df[\"timeDiff\"].dt.total_seconds()\n",
    "\n",
    "# Describe statistics for timeDiff\n",
    "time_diff_stats = df[\"timeDiff_seconds\"].describe()\n",
    "\n",
    "# Compute mean and median explicitly in a readable format\n",
    "mean_time_diff = df[\"timeDiff_seconds\"].mean()\n",
    "median_time_diff = df[\"timeDiff_seconds\"].median()\n",
    "\n",
    "# Convert mean and median back to timedelta for better understanding\n",
    "mean_time_diff_td = pd.to_timedelta(mean_time_diff, unit=\"s\")\n",
    "median_time_diff_td = pd.to_timedelta(median_time_diff, unit=\"s\")\n",
    "\n",
    "# Display the results\n",
    "print(f\"Descriptive Statistics for Time Differences:\\n{time_diff_stats}\\n\")\n",
    "print(f\"Mean Time Difference: {mean_time_diff_td}\")\n",
    "print(f\"Median Time Difference: {median_time_diff_td}\")\n",
    "\n",
    "# Print the mean and median time that it takes for a CME to cause a GST\n",
    "df[\"timeDiff_seconds\"] = df[\"timeDiff\"].dt.total_seconds()\n",
    "\n",
    "# Compute mean and median in seconds\n",
    "mean_time_diff = df[\"timeDiff_seconds\"].mean()\n",
    "median_time_diff = df[\"timeDiff_seconds\"].median()\n",
    "\n",
    "# Convert mean and median back to timedelta for better interpretation\n",
    "mean_time_diff_td = pd.to_timedelta(mean_time_diff, unit=\"s\")\n",
    "median_time_diff_td = pd.to_timedelta(median_time_diff, unit=\"s\")\n",
    "\n",
    "# Print the results\n",
    "print(f\"Mean Time for a CME to cause a GST: {mean_time_diff_td}\")\n",
    "print(f\"Median Time for a CME to cause a GST: {median_time_diff_td}\")\n",
    "        \n",
    "\n"
   ]
  },
  {
   "cell_type": "markdown",
   "metadata": {},
   "source": [
    "### Exporting data in csv format"
   ]
  },
  {
   "cell_type": "code",
   "execution_count": 123,
   "metadata": {},
   "outputs": [
    {
     "name": "stdout",
     "output_type": "stream",
     "text": [
      "Data exported to CSV\n"
     ]
    }
   ],
   "source": [
    "# Export data to CSV without the index\n",
    "merged_df.to_csv(\"cme_gst.csv\", index=False)\n",
    "print(\"Data exported to CSV\")\n",
    "\n"
   ]
  }
 ],
 "metadata": {
  "kernelspec": {
   "display_name": "Python [conda env:base] *",
   "language": "python",
   "name": "conda-base-py"
  },
  "language_info": {
   "codemirror_mode": {
    "name": "ipython",
    "version": 3
   },
   "file_extension": ".py",
   "mimetype": "text/x-python",
   "name": "python",
   "nbconvert_exporter": "python",
   "pygments_lexer": "ipython3",
   "version": "3.12.7"
  },
  "varInspector": {
   "cols": {
    "lenName": 16,
    "lenType": 16,
    "lenVar": 40
   },
   "kernels_config": {
    "python": {
     "delete_cmd_postfix": "",
     "delete_cmd_prefix": "del ",
     "library": "var_list.py",
     "varRefreshCmd": "print(var_dic_list())"
    },
    "r": {
     "delete_cmd_postfix": ") ",
     "delete_cmd_prefix": "rm(",
     "library": "var_list.r",
     "varRefreshCmd": "cat(var_dic_list()) "
    }
   },
   "types_to_exclude": [
    "module",
    "function",
    "builtin_function_or_method",
    "instance",
    "_Feature"
   ],
   "window_display": false
  }
 },
 "nbformat": 4,
 "nbformat_minor": 4
}
